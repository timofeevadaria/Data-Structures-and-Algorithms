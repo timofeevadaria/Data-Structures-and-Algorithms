{
 "cells": [
  {
   "cell_type": "markdown",
   "id": "fifteen-sailing",
   "metadata": {},
   "source": [
    "# Лабораторная работа №1\n",
    "## Выполнила студентка группы БФИ2001 Тимофеева Дарья Валерьевна"
   ]
  },
  {
   "cell_type": "markdown",
   "id": "particular-syndicate",
   "metadata": {},
   "source": [
    "### Оглавление\n",
    "1. [Задание 1](#Задание-№1)\n",
    "2. [Задание 2](#Задание-№2)\n",
    "3. [Задание 3](#Задание-№3)\n",
    "4. [Вывод](#Вывод)"
   ]
  },
  {
   "cell_type": "markdown",
   "id": "arctic-stocks",
   "metadata": {},
   "source": [
    "### Задание №1\n",
    "<i> Вызвать функцию print() и передать туда строку Hello, World! </i>"
   ]
  },
  {
   "cell_type": "code",
   "execution_count": 2,
   "id": "caring-truck",
   "metadata": {
    "scrolled": true
   },
   "outputs": [
    {
     "name": "stdout",
     "output_type": "stream",
     "text": [
      "Hello World!\n"
     ]
    }
   ],
   "source": [
    "print('Hello World!')"
   ]
  },
  {
   "cell_type": "markdown",
   "id": "maritime-conversation",
   "metadata": {},
   "source": [
    "### Задание №2\n",
    "Написать генератор случайных матриц(многомерных), который принимает\n",
    "опциональные параметры <b>m</b>, <b>n</b>, <b>min_limit</b>, <b>max_limit</b>, где <b>m</b> и <b>n</b> указывают размер\n",
    "матрицы, а <b>min_lim</b> и <b>max_lim</b> - минимальное и максимальное значение для\n",
    "генерируемого числа."
   ]
  },
  {
   "cell_type": "code",
   "execution_count": 2,
   "id": "built-contact",
   "metadata": {},
   "outputs": [],
   "source": [
    "import random\n",
    "import time"
   ]
  },
  {
   "cell_type": "code",
   "execution_count": 3,
   "id": "alert-charm",
   "metadata": {},
   "outputs": [
    {
     "name": "stdout",
     "output_type": "stream",
     "text": [
      "m =  50\n",
      "n =  50\n",
      "min_limit =  -250\n",
      "max_limit =  1023\n"
     ]
    }
   ],
   "source": [
    "user_m = int(input('m =  '))\n",
    "user_n = int(input('n =  '))\n",
    "user_min_limit = int(input('min_limit =  '))\n",
    "user_max_limit = int(input('max_limit =  '))\n",
    "matrix = [ [ random.randint(user_min_limit, user_max_limit) for j in range(user_n)] for i in range(user_m) ]"
   ]
  },
  {
   "cell_type": "markdown",
   "id": "catholic-roots",
   "metadata": {},
   "source": [
    "### Задание №3\n",
    "Реализовать методы сортировки строк числовой матрицы в соответствии с\n",
    "заданием. Оценить время работы каждого алгоритма сортировки и сравнить его со\n",
    "временем стандартной функции сортировки. Испытания проводить на сгенерированных\n",
    "матрицах."
   ]
  },
  {
   "cell_type": "code",
   "execution_count": 4,
   "id": "opposed-creature",
   "metadata": {},
   "outputs": [],
   "source": [
    "import copy"
   ]
  },
  {
   "cell_type": "code",
   "execution_count": 6,
   "id": "cleared-anniversary",
   "metadata": {},
   "outputs": [
    {
     "name": "stdout",
     "output_type": "stream",
     "text": [
      "--- 2 ms ---\n"
     ]
    }
   ],
   "source": [
    "# Сортировка выбором.\n",
    "start_time = time.time()\n",
    "\n",
    "def selection_sort(mtrx):\n",
    "    for i in range(len(mtrx)):\n",
    "        min_index = i\n",
    "        for j in range(i + 1, len(mtrx)):\n",
    "            if mtrx[j] < mtrx[min_index]:\n",
    "                min_index = j\n",
    "        mtrx[i], mtrx[min_index] = mtrx[min_index], mtrx[i]\n",
    "    return mtrx\n",
    "\n",
    "sort_matrix = copy.deepcopy(matrix)\n",
    "selection_sort(sort_matrix)\n",
    "\n",
    "print(\"--- {0} ms ---\".format(round((time.time() - start_time)*1000)))"
   ]
  },
  {
   "cell_type": "code",
   "execution_count": 7,
   "id": "roman-silly",
   "metadata": {
    "scrolled": true
   },
   "outputs": [
    {
     "name": "stdout",
     "output_type": "stream",
     "text": [
      "--- 2 ms ---\n"
     ]
    }
   ],
   "source": [
    "# Сортировка вставкой.\n",
    "start_time = time.time()\n",
    "def insertion_sort(mtrx):\n",
    "    for i in range (1, len(mtrx)):\n",
    "        insert_el = mtrx[i]\n",
    "        j = i-1\n",
    "        while j>=0 and mtrx[j]>insert_el:\n",
    "            mtrx[j+1] = mtrx[j]\n",
    "            j-=1\n",
    "        mtrx[j+1] = insert_el\n",
    "    return(mtrx)  \n",
    "\n",
    "sort_matrix = copy.deepcopy(matrix)\n",
    "insertion_sort(sort_matrix)\n",
    "\n",
    "print(\"--- {0} ms ---\".format(round((time.time() - start_time)*1000)))"
   ]
  },
  {
   "cell_type": "code",
   "execution_count": 8,
   "id": "vital-implementation",
   "metadata": {},
   "outputs": [
    {
     "name": "stdout",
     "output_type": "stream",
     "text": [
      "--- 2 ms ---\n"
     ]
    }
   ],
   "source": [
    "# Сортировка обменом. || Сортировка пузырьком.\n",
    "start_time = time.time()\n",
    "\n",
    "def exchange_sort(mtrx):\n",
    "    for i in range (1, len(mtrx) - 1):\n",
    "        flag = 0\n",
    "        for j in range (0, len(mtrx)-1-i):\n",
    "            if mtrx[j]>=mtrx[j+1]:\n",
    "                mtrx[j], mtrx[j+1] = mtrx[j+1], mtrx[j]\n",
    "                flag = 1\n",
    "        if flag == 0:\n",
    "            break\n",
    "    return mtrx\n",
    "\n",
    "sort_matrix = copy.deepcopy(matrix)\n",
    "exchange_sort(sort_matrix)\n",
    "\n",
    "print(\"--- {0} ms ---\".format(round((time.time() - start_time)*1000)))"
   ]
  },
  {
   "cell_type": "code",
   "execution_count": 9,
   "id": "veterinary-glory",
   "metadata": {},
   "outputs": [
    {
     "name": "stdout",
     "output_type": "stream",
     "text": [
      "--- 3 ms ---\n"
     ]
    }
   ],
   "source": [
    "# Сортировка Шелла.\n",
    "start_time = time.time()\n",
    "\n",
    "def shell_sort(mtrx):\n",
    "    interval = len(mtrx)//2\n",
    "    while interval>0:\n",
    "        for i in range(interval, len(mtrx)):\n",
    "            j = i\n",
    "            while j>=interval and mtrx[j-interval]>mtrx[i]:\n",
    "                mtrx[j] = mtrx[j-interval]\n",
    "                j-=interval\n",
    "            mtrx[j] = mtrx[i]\n",
    "        interval//=2\n",
    "    return(mtrx)\n",
    "\n",
    "sort_matrix = copy.deepcopy(matrix)\n",
    "shell_sort(sort_matrix)\n",
    "\n",
    "\n",
    "print(\"--- {0} ms ---\".format(round((time.time() - start_time)*1000)))"
   ]
  },
  {
   "cell_type": "code",
   "execution_count": 10,
   "id": "correct-chaos",
   "metadata": {},
   "outputs": [
    {
     "name": "stdout",
     "output_type": "stream",
     "text": [
      "--- 1 ms ---\n"
     ]
    }
   ],
   "source": [
    "# Быстрая сортировка.\n",
    "start_time = time.time()\n",
    "\n",
    "def quickSort(mtrx):\n",
    "    if len(mtrx)> 1:\n",
    "        pivot=mtrx.pop()\n",
    "        grtr_lst, equal_lst, smlr_lst = [], [pivot], []\n",
    "        for item in mtrx:\n",
    "            if item == pivot:\n",
    "                equal_lst.append(item)\n",
    "            elif item > pivot:\n",
    "                grtr_lst.append(item)\n",
    "            else:\n",
    "                smlr_lst.append(item)\n",
    "        return (quickSort(smlr_lst) + equal_lst + quickSort(grtr_lst))\n",
    "    else:\n",
    "        return mtrx\n",
    "\n",
    "sort_matrix = copy.deepcopy(matrix)\n",
    "quickSort(sort_matrix)\n",
    "\n",
    "print(\"--- {0} ms ---\".format(round((time.time() - start_time)*1000)))\n",
    "    "
   ]
  },
  {
   "cell_type": "code",
   "execution_count": 11,
   "id": "french-czech",
   "metadata": {},
   "outputs": [
    {
     "name": "stdout",
     "output_type": "stream",
     "text": [
      "--- 1 ms ---\n"
     ]
    }
   ],
   "source": [
    "# Турнирная сортировка.\n",
    "start_time = time.time()\n",
    "\n",
    "def heapify(nums, size, root_ind):\n",
    "    smallest = root_ind\n",
    "    left_ind = 2 * root_ind + 1\n",
    "    right_ind = 2 * root_ind + 2\n",
    "    if left_ind < size and nums[left_ind] < nums[smallest]:\n",
    "        smallest = left_ind\n",
    "        if right_ind < size and nums[right_ind] < nums[smallest]:\n",
    "            smallest = right_ind\n",
    "        if smallest != root_ind:\n",
    "            nums[smallest], nums[root_ind] = nums[root_ind], nums[smallest]\n",
    "            heapify(nums, size, smallest)\n",
    "            \n",
    "def tournament_sort(nums):\n",
    "    n = len(nums)\n",
    "    winners = []\n",
    "    for i in range(n - 1, -1, -1):\n",
    "        heapify(nums, n, i)\n",
    "    while n:\n",
    "        nums[0], nums[n - 1] = nums[n - 1], nums[0]\n",
    "        winners.append(nums.pop())\n",
    "        n -= 1\n",
    "        heapify(nums, n, 0)\n",
    "    return winners\n",
    "\n",
    "sort_matrix = copy.deepcopy(matrix)\n",
    "tournament_sort(sort_matrix)\n",
    "\n",
    "print(\"--- {0} ms ---\".format(round((time.time() - start_time)*1000)))"
   ]
  },
  {
   "cell_type": "code",
   "execution_count": 12,
   "id": "25f2d0c8",
   "metadata": {},
   "outputs": [
    {
     "name": "stdout",
     "output_type": "stream",
     "text": [
      "--- 1 ms ---\n"
     ]
    }
   ],
   "source": [
    "# Стандартная функция сортировки\n",
    "start_time = time.time()\n",
    "\n",
    "sort_matrix = copy.deepcopy(matrix)\n",
    "sort_matrix.sort()\n",
    "\n",
    "print(\"--- {0} ms ---\".format(round((time.time() - start_time)*1000)))"
   ]
  },
  {
   "cell_type": "markdown",
   "id": "rental-jerusalem",
   "metadata": {},
   "source": [
    "### Вывод\n"
   ]
  },
  {
   "cell_type": "markdown",
   "id": "a5359ee3",
   "metadata": {},
   "source": [
    "   В результате оценки времени работы алгоритмов сортировки было установлено, что быстрее всех работают стандартная, турнирная и быстрая сортировки.  На втором месте по скорости выполнения – сортировка вставкой, сортировка обменом, сортировка выбором. Самой длительной по времени получилась сортровка Шелла."
   ]
  }
 ],
 "metadata": {
  "kernelspec": {
   "display_name": "Python 3 (ipykernel)",
   "language": "python",
   "name": "python3"
  },
  "language_info": {
   "codemirror_mode": {
    "name": "ipython",
    "version": 3
   },
   "file_extension": ".py",
   "mimetype": "text/x-python",
   "name": "python",
   "nbconvert_exporter": "python",
   "pygments_lexer": "ipython3",
   "version": "3.10.2"
  }
 },
 "nbformat": 4,
 "nbformat_minor": 5
}
