{
 "cells": [
  {
   "cell_type": "markdown",
   "id": "fifteen-sailing",
   "metadata": {},
   "source": [
    "# Лабораторная работа №1\n",
    "## Выполнила студентка группы БФИ2001 Тимофеева Дарья Валерьевна"
   ]
  },
  {
   "cell_type": "markdown",
   "id": "particular-syndicate",
   "metadata": {},
   "source": [
    "### Оглавление\n",
    "1. [Задание 1](#Задание-№1)\n",
    "2. [Задание 2](#Задание-№2)\n",
    "3. [Задание 3](#Задание-№3)\n",
    "4. [Вывод](#Вывод)"
   ]
  },
  {
   "cell_type": "markdown",
   "id": "arctic-stocks",
   "metadata": {},
   "source": [
    "### Задание №1\n",
    "<i> Вызвать функцию print() и передать туда строку Hello, World! </i>"
   ]
  },
  {
   "cell_type": "code",
   "execution_count": 1,
   "id": "caring-truck",
   "metadata": {
    "scrolled": false
   },
   "outputs": [
    {
     "name": "stdout",
     "output_type": "stream",
     "text": [
      "Hello World!\n"
     ]
    }
   ],
   "source": [
    "print('Hello World!')"
   ]
  },
  {
   "cell_type": "markdown",
   "id": "maritime-conversation",
   "metadata": {},
   "source": [
    "### Задание №2\n",
    "Написать генератор случайных матриц(многомерных), который принимает\n",
    "опциональные параметры <b>m</b>, <b>n</b>, <b>min_limit</b>, <b>max_limit</b>, где <b>m</b> и <b>n</b> указывают размер\n",
    "матрицы, а <b>min_lim</b> и <b>max_lim</b> - минимальное и максимальное значение для\n",
    "генерируемого числа."
   ]
  },
  {
   "cell_type": "code",
   "execution_count": 2,
   "id": "built-contact",
   "metadata": {},
   "outputs": [],
   "source": [
    "import random\n",
    "import time"
   ]
  },
  {
   "cell_type": "code",
   "execution_count": 3,
   "id": "alert-charm",
   "metadata": {},
   "outputs": [
    {
     "name": "stdout",
     "output_type": "stream",
     "text": [
      "m =  1000\n",
      "n =  1000\n",
      "min_limit =  -250\n",
      "max_limit =  1250\n"
     ]
    }
   ],
   "source": [
    "user_m = int(input('m =  '))\n",
    "user_n = int(input('n =  '))\n",
    "user_min_limit = int(input('min_limit =  '))\n",
    "user_max_limit = int(input('max_limit =  '))\n",
    "matrix = [ [ random.randint(user_min_limit, user_max_limit) for j in range(user_n)] for i in range(user_m) ]"
   ]
  },
  {
   "cell_type": "markdown",
   "id": "catholic-roots",
   "metadata": {},
   "source": [
    "### Задание №3\n",
    "Реализовать методы сортировки строк числовой матрицы в соответствии с\n",
    "заданием. Оценить время работы каждого алгоритма сортировки и сравнить его со\n",
    "временем стандартной функции сортировки. Испытания проводить на сгенерированных\n",
    "матрицах."
   ]
  },
  {
   "cell_type": "code",
   "execution_count": 4,
   "id": "opposed-creature",
   "metadata": {},
   "outputs": [],
   "source": [
    "import copy"
   ]
  },
  {
   "cell_type": "code",
   "execution_count": 5,
   "id": "cleared-anniversary",
   "metadata": {},
   "outputs": [
    {
     "name": "stdout",
     "output_type": "stream",
     "text": [
      "--- 338 ms ---\n"
     ]
    }
   ],
   "source": [
    "# Сортировка выбором.\n",
    "start_time = time.time()\n",
    "\n",
    "def selection_sort(mtrx):\n",
    "    for i in range(len(mtrx)):\n",
    "        min_index = i\n",
    "        for j in range(i + 1, len(mtrx)):\n",
    "            if mtrx[j] < mtrx[min_index]:\n",
    "                min_index = j\n",
    "        mtrx[i], mtrx[min_index] = mtrx[min_index], mtrx[i]\n",
    "    return mtrx\n",
    "\n",
    "sort_matrix = copy.deepcopy(matrix)\n",
    "selection_sort(sort_matrix)\n",
    "\n",
    "print(\"--- {0} ms ---\".format(round((time.time() - start_time)*1000)))"
   ]
  },
  {
   "cell_type": "code",
   "execution_count": 6,
   "id": "roman-silly",
   "metadata": {
    "scrolled": true
   },
   "outputs": [
    {
     "name": "stdout",
     "output_type": "stream",
     "text": [
      "--- 330 ms ---\n"
     ]
    }
   ],
   "source": [
    "# Сортировка вставкой.\n",
    "start_time = time.time()\n",
    "def insertion_sort(mtrx):\n",
    "    for i in range (1, len(mtrx)):\n",
    "        insert_el = mtrx[i]\n",
    "        j = i-1\n",
    "        while j>=0 and mtrx[j]>insert_el:\n",
    "            mtrx[j+1] = mtrx[j]\n",
    "            j-=1\n",
    "        mtrx[j+1] = insert_el\n",
    "    return(mtrx)  \n",
    "\n",
    "sort_matrix = copy.deepcopy(matrix)\n",
    "insertion_sort(sort_matrix)\n",
    "\n",
    "print(\"--- {0} ms ---\".format(round((time.time() - start_time)*1000)))"
   ]
  },
  {
   "cell_type": "code",
   "execution_count": 7,
   "id": "vital-implementation",
   "metadata": {},
   "outputs": [
    {
     "name": "stdout",
     "output_type": "stream",
     "text": [
      "--- 370 ms ---\n"
     ]
    }
   ],
   "source": [
    "# Сортировка обменом. || Сортировка пузырьком.\n",
    "start_time = time.time()\n",
    "\n",
    "def exchange_sort(mtrx):\n",
    "    for i in range (1, len(mtrx) - 1):\n",
    "        flag = 0\n",
    "        for j in range (0, len(mtrx)-1-i):\n",
    "            if mtrx[j]>=mtrx[j+1]:\n",
    "                mtrx[j], mtrx[j+1] = mtrx[j+1], mtrx[j]\n",
    "                flag = 1\n",
    "        if flag == 0:\n",
    "            break\n",
    "    return mtrx\n",
    "\n",
    "sort_matrix = copy.deepcopy(matrix)\n",
    "exchange_sort(sort_matrix)\n",
    "\n",
    "print(\"--- {0} ms ---\".format(round((time.time() - start_time)*1000)))"
   ]
  },
  {
   "cell_type": "code",
   "execution_count": 8,
   "id": "veterinary-glory",
   "metadata": {},
   "outputs": [
    {
     "name": "stdout",
     "output_type": "stream",
     "text": [
      "--- 318 ms ---\n"
     ]
    }
   ],
   "source": [
    "# Сортировка Шелла.\n",
    "start_time = time.time()\n",
    "\n",
    "def shell_sort(mtrx):\n",
    "    interval = len(mtrx)//2\n",
    "    while interval>0:\n",
    "        for i in range(interval, len(mtrx)):\n",
    "            j = i\n",
    "            while j>=interval and mtrx[j-interval]>mtrx[i]:\n",
    "                mtrx[j] = mtrx[j-interval]\n",
    "                j-=interval\n",
    "            mtrx[j] = mtrx[i]\n",
    "        interval//=2\n",
    "    return(mtrx)\n",
    "\n",
    "sort_matrix = copy.deepcopy(matrix)\n",
    "shell_sort(sort_matrix)\n",
    "\n",
    "\n",
    "print(\"--- {0} ms ---\".format(round((time.time() - start_time)*1000)))"
   ]
  },
  {
   "cell_type": "code",
   "execution_count": 9,
   "id": "correct-chaos",
   "metadata": {},
   "outputs": [
    {
     "name": "stdout",
     "output_type": "stream",
     "text": [
      "--- 307 ms ---\n"
     ]
    }
   ],
   "source": [
    "# Быстрая сортировка.\n",
    "start_time = time.time()\n",
    "\n",
    "def quick_sort(mtrx):\n",
    "    if len(mtrx) <= 1:\n",
    "        return mtrx\n",
    "    else:\n",
    "        element = random.choice(mtrx)\n",
    "        left = []\n",
    "        middle = []\n",
    "        right = []\n",
    "        for i in range(len(mtrx)):\n",
    "            if mtrx[i] < element:\n",
    "                left.append(mtrx[i])\n",
    "            elif mtrx[i] > element:\n",
    "                right.append(mtrx[i])\n",
    "            else:\n",
    "                middle.append(mtrx[i])\n",
    "        return quick_sort(left) + middle + quick_sort(right)\n",
    "    \n",
    "sort_matrix = copy.deepcopy(matrix)\n",
    "quick_sort(sort_matrix)\n",
    "\n",
    "print(\"--- {0} ms ---\".format(round((time.time() - start_time)*1000)))\n",
    "    "
   ]
  },
  {
   "cell_type": "code",
   "execution_count": 10,
   "id": "french-czech",
   "metadata": {},
   "outputs": [
    {
     "name": "stdout",
     "output_type": "stream",
     "text": [
      "--- 314 ms ---\n"
     ]
    }
   ],
   "source": [
    "# Турнирная сортировка.\n",
    "start_time = time.time()\n",
    "\n",
    "def heapify(mtrx, size, index):\n",
    "    largest = index\n",
    "    left_ind = 2 * index + 1\n",
    "    right_ind = 2 * index + 2\n",
    "    \n",
    "    if left_ind < size and mtrx[index] < mtrx[left_ind]:\n",
    "        largest = left_ind\n",
    "        \n",
    "    if right_ind < size and mtrx[largest] < mtrx[right_ind]:\n",
    "            largest = right_ind\n",
    "    \n",
    "    if largest != index:\n",
    "            mtrx[index], mtrx[largest] = mtrx[largest], mtrx[index]\n",
    "            heapify(mtrx, size, largest)\n",
    "            \n",
    "def tournament_sort(mtrx):\n",
    "    n = len(mtrx)\n",
    "    \n",
    "    for i in range(n - 1, -1, -1):\n",
    "        heapify(mtrx, n, i)\n",
    "    \n",
    "    for k in range(n - 1, 0, -1):\n",
    "        mtrx[k], mtrx[0] = mtrx[0], mtrx[i] \n",
    "        heapify(mtrx, i, 0)\n",
    "\n",
    "sort_matrix = copy.deepcopy(matrix)\n",
    "tournament_sort(sort_matrix)\n",
    "\n",
    "print(\"--- {0} ms ---\".format(round((time.time() - start_time)*1000)))"
   ]
  },
  {
   "cell_type": "code",
   "execution_count": 11,
   "id": "25f2d0c8",
   "metadata": {},
   "outputs": [
    {
     "name": "stdout",
     "output_type": "stream",
     "text": [
      "--- 299 ms ---\n"
     ]
    }
   ],
   "source": [
    "# Стандартная функция сортировки\n",
    "start_time = time.time()\n",
    "\n",
    "sort_matrix = copy.deepcopy(matrix)\n",
    "sort_matrix.sort()\n",
    "\n",
    "print(\"--- {0} ms ---\".format(round((time.time() - start_time)*1000)))"
   ]
  },
  {
   "cell_type": "markdown",
   "id": "rental-jerusalem",
   "metadata": {},
   "source": [
    "### Вывод\n"
   ]
  },
  {
   "cell_type": "markdown",
   "id": "38c4a280",
   "metadata": {},
   "source": [
    "         В результате оценки времени работы алгоритмов сортировки массива, состоящего из 1000 элементов, были получены следующие результаты:\n",
    "         1) Сортировка выбором - 338 ms\n",
    "         2) Сортировка вставкой - 330 ms\n",
    "         3) Сортировка обменом - 370 ms\n",
    "         4) Сортировка Шелла - 318 ms\n",
    "         5) Быстрая сортировка - 307 ms\n",
    "         6) Турнирная сортировка - 314 ms\n",
    "         7) Стандартная функция сортировки - 299 ms\n",
    "         Стандартная функция сортировки оказалась наиболее быстрой по времени; \n",
    "         Наиболее быстрая по времни, за исключением стандартной функции, - быстрая сортировка.\n",
    "         Наиболее длительная - сортировка обменом."
   ]
  }
 ],
 "metadata": {
  "kernelspec": {
   "display_name": "Python 3 (ipykernel)",
   "language": "python",
   "name": "python3"
  },
  "language_info": {
   "codemirror_mode": {
    "name": "ipython",
    "version": 3
   },
   "file_extension": ".py",
   "mimetype": "text/x-python",
   "name": "python",
   "nbconvert_exporter": "python",
   "pygments_lexer": "ipython3",
   "version": "3.10.2"
  }
 },
 "nbformat": 4,
 "nbformat_minor": 5
}
