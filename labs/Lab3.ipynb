{
 "cells": [
  {
   "cell_type": "markdown",
   "id": "db4b50f0",
   "metadata": {},
   "source": [
    "# Лабораторная работа №3\n",
    "## Выполнила студентка группы БФИ2001 Тимофеева Дарья Валерьевна"
   ]
  },
  {
   "cell_type": "markdown",
   "id": "annual-symbol",
   "metadata": {},
   "source": [
    "### Оглавление\n",
    "1. [Задание 1](#Задание-№1)\n",
    "2. [Задание 2](#Задание-№2)\n",
    "4. [Вывод](#Вывод)"
   ]
  },
  {
   "cell_type": "markdown",
   "id": "independent-spirit",
   "metadata": {},
   "source": [
    "> Дополнительные модули, использованные при выполнение лабораторной"
   ]
  },
  {
   "cell_type": "code",
   "execution_count": 2,
   "id": "4839be2b",
   "metadata": {},
   "outputs": [],
   "source": [
    "# Необходим при замере скорости выполнения кода\n",
    "from datetime import datetime as t\n",
    "# Нужен для создания словаря в алг. Бойера-Мура\n",
    "from collections import defaultdict"
   ]
  },
  {
   "cell_type": "markdown",
   "id": "inclusive-motorcycle",
   "metadata": {},
   "source": [
    "### Задание №1\n",
    "Реализовать методы поиска подстроки в строке. Добавить возможность ввода строки и подстроки с клавиатуры. Предусмотреть возможность существования пробела. Реализовать возможность выбора опции чувствительности или нечувствительности к регистру. Оценить время работы каждого алгоритма поиска и сравнить его со временем работы стандартной функции поиска, используемой в выбранном языке программирования."
   ]
  },
  {
   "cell_type": "markdown",
   "id": "interracial-communication",
   "metadata": {},
   "source": [
    "#### Алгоритм Кнута-Морриса-Пратта"
   ]
  },
  {
   "cell_type": "code",
   "execution_count": 8,
   "id": "presidential-level",
   "metadata": {},
   "outputs": [
    {
     "name": "stdout",
     "output_type": "stream",
     "text": [
      "Cтрока: It's the thought of being young When your heart's just like a drum Beating louder with no way to guard it When it all seems like it's wrong Just sing along to Elton John And to that feeling, we're just getting started When the nights get colder And the rhythms got you falling behind Just dream about that moment When you look yourself right in the eye, eye, eye Then you say I wanna dance The music's got me going Ain't nothing that can stop how we move, yeah Let's break our plans And live just like we're golden And roll in like we're dancing fools We don't need to worry 'Cause when we fall, we know how to land Don't need to talk the talk, just walk the walk tonight 'Cause we don't need permission to dance\n",
      "Подстрока: Elton John\n",
      "Выбор опции чувствительности к регистру -  on or off on\n",
      "Подстрока найдена\n",
      "--- 1289 ms ---\n"
     ]
    }
   ],
   "source": [
    "text = input(\"Cтрока: \")\n",
    "sub_text = input(\"Подстрока: \")\n",
    "button = input(\"Выбор опции чувствительности к регистру -  on or off \")\n",
    "\n",
    "time1 = t.now()\n",
    "\n",
    "def prefix_function(text):\n",
    "    n = len(text)\n",
    "    pi = [0] * n\n",
    "    for i in range(1, n):\n",
    "        j = pi[i-1]\n",
    "        while j > 0 and text[j] != text[i]:\n",
    "            j = pi[j-1]\n",
    "        if text[i] == text[j]:\n",
    "            j += 1\n",
    "        pi[i] = j\n",
    "    return pi\n",
    "\n",
    "def KMP_algorithm(text, sub_text, start_index, button):\n",
    "    start_index = 0\n",
    "    if button == 'off':\n",
    "        text = text.lower()\n",
    "        sub_text = sub.text.lower()\n",
    "    j = 0\n",
    "    pi = prefix_function(sub_text)\n",
    "    for i in range(start_index, len(text)):\n",
    "        while j > 0 and text[i] != sub_text[j]:\n",
    "            j = pi[j-1]\n",
    "        if text[i] == sub_text[j]:\n",
    "            j += 1\n",
    "        if j >= len(sub_text):\n",
    "            return \"Подстрока найдена\"\n",
    "    return \"Подстрока не найдена\"\n",
    "\n",
    "print(KMP_algorithm(text, sub_text, 0, button))\n",
    "\n",
    "time2 = t.now()\n",
    "print(\"--- {0} ms ---\".format((time2 - time1).microseconds))"
   ]
  },
  {
   "cell_type": "markdown",
   "id": "downtown-option",
   "metadata": {},
   "source": [
    "#### Упрощенный алгоритм Бойера-Мура"
   ]
  },
  {
   "cell_type": "code",
   "execution_count": 11,
   "id": "respective-reggae",
   "metadata": {
    "scrolled": true
   },
   "outputs": [
    {
     "name": "stdout",
     "output_type": "stream",
     "text": [
      "Строка: It's the thought of being young When your heart's just like a drum Beating louder with no way to guard it When it all seems like it's wrong Just sing along to Elton John And to that feeling, we're just getting started When the nights get colder And the rhythms got you falling behind Just dream about that moment When you look yourself right in the eye, eye, eye Then you say I wanna dance The music's got me going Ain't nothing that can stop how we move, yeah Let's break our plans And live just like we're golden And roll in like we're dancing fools We don't need to worry 'Cause when we fall, we know how to land Don't need to talk the talk, just walk the walk tonight 'Cause we don't need permission to dance\n",
      "Подстрока: elton john\n",
      "Выбор опции чувствительности к регистрн -  on or off:  on\n",
      "Подстрока не найдена\n",
      "--- 1543 ms ---\n"
     ]
    }
   ],
   "source": [
    "text = input(\"Строка: \")\n",
    "sub_text = input(\"Подстрока: \")\n",
    "button = input(\"Выбор опции чувствительности к регистрн -  on or off:  \")\n",
    "\n",
    "time1 = t.now()\n",
    "\n",
    "def dic(sub_text):\n",
    "    S = set()  \n",
    "    M = len(sub_text) \n",
    "    dictionary = defaultdict()       \n",
    "    for i in range(M-2, -1, -1): \n",
    "        if sub_text[i] not in S:        \n",
    "            dictionary[sub_text[i]] = M-i-1\n",
    "            S.add(sub_text[i])\n",
    "    if sub_text[M-1] not in S:     \n",
    "        dictionary[sub_text[M-1]] = M\n",
    "    dictionary['*'] = M              \n",
    "    return dictionary\n",
    "\n",
    "def BM_algorithm(text, sub_text, button):\n",
    "    if button == 'off':\n",
    "        text = text.lower()\n",
    "        sub_text = sub_text.lower()\n",
    "    dictionary = dic(sub_text)\n",
    "    N = len(text)\n",
    "    M = len(sub_text)\n",
    "    if N >= M:\n",
    "        i = M-1       \n",
    "        while(i < N):\n",
    "            k = 0\n",
    "            j = 0\n",
    "            flBreak = False\n",
    "            for j in range(M-1, -1, -1):\n",
    "                if text[i-k] != sub_text[j]:\n",
    "                    if j == M-1:\n",
    "                        off = dictionary[text[i]] if dictionary.get(text[i], False) else dictionary['*']  \n",
    "                    else:\n",
    "                        off = dictionary[sub_text[j]]   \n",
    "                    i += off    \n",
    "                    flBreak = True \n",
    "                    break\n",
    "                k += 1          \n",
    "            if not flBreak:         \n",
    "                return \"Подстрока найдена\"\n",
    "                break\n",
    "        else:\n",
    "            return \"Подстрока не найдена\"\n",
    "    else:\n",
    "        return \"Подстрока не найдена\"\n",
    "    \n",
    "\n",
    "print(BM_algorithm(text, sub_text,button))\n",
    "\n",
    "time2 = t.now()\n",
    "print(\"--- {0} ms ---\".format((time2 - time1).microseconds))"
   ]
  },
  {
   "cell_type": "markdown",
   "id": "88b3d679",
   "metadata": {},
   "source": [
    "#### Стандартная функция поиска"
   ]
  },
  {
   "cell_type": "code",
   "execution_count": 13,
   "id": "c9374982",
   "metadata": {},
   "outputs": [
    {
     "name": "stdout",
     "output_type": "stream",
     "text": [
      "Строка: It's the thought of being young When your heart's just like a drum Beating louder with no way to guard it When it all seems like it's wrong Just sing along to Elton John And to that feeling, we're just getting started When the nights get colder And the rhythms got you falling behind Just dream about that moment When you look yourself right in the eye, eye, eye Then you say I wanna dance The music's got me going Ain't nothing that can stop how we move, yeah Let's break our plans And live just like we're golden And roll in like we're dancing fools We don't need to worry 'Cause when we fall, we know how to land Don't need to talk the talk, just walk the walk tonight 'Cause we don't need permission to dance\n",
      "Строка: Elton john\n",
      "Выбор опции чувствительности к регистрн -  on or off: off\n",
      "Подстрока найдена\n",
      "--- 314 ms ---\n"
     ]
    }
   ],
   "source": [
    "text = input('Строка: ')\n",
    "sub_text = input('Строка: ')\n",
    "button = input(\"Выбор опции чувствительности к регистрн -  on or off: \")\n",
    "\n",
    "time1 = t.now()\n",
    "\n",
    "if button == 'off':\n",
    "    text = text.lower()\n",
    "    sub_text = sub_text.lower()\n",
    "if text.find(sub_text) != -1:                     \n",
    "    print('Подстрока найдена')\n",
    "else:\n",
    "    print ('Подстрока не найдена')\n",
    "\n",
    "time2 = t.now()\n",
    "print(\"--- {0} ms ---\".format((time2 - time1).microseconds))"
   ]
  },
  {
   "cell_type": "markdown",
   "id": "hybrid-memorial",
   "metadata": {},
   "source": [
    "### Задание №2\n",
    "Написать программу, определяющую, является ли данное\n",
    "расположение «решаемым», то есть можно ли из него за конечное число\n",
    "шагов перейти к правильному. Если это возможно, то необходимо найти хотя\n",
    "бы одно решение - последовательность движений, после которой числа будут\n",
    "расположены в правильном порядке.\n",
    "#### Входные данные: массив чисел, представляющий собой расстановку в\n",
    "Порядке «слева направо, сверху вниз». Число 0 обозначает пустое поле.\n",
    "Например, массив [1, 2, 3, 4, 5, 6, 7, 8, 9, 10, 11, 12, 13, 14, 15, 0] представляет\n",
    "собой «решенную» позицию элементов.\n",
    "#### Выходные данные: если решения нет, то функция должна вернуть\n",
    "Пустой массив []. Если решение есть, то необходимо представить решение —\n",
    "для каждого шага записывается номер передвигаемого на данном шаге\n",
    "элемента. "
   ]
  },
  {
   "cell_type": "code",
   "execution_count": 1,
   "id": "eleven-generic",
   "metadata": {},
   "outputs": [
    {
     "name": "stdout",
     "output_type": "stream",
     "text": [
      "  1  2  3  4\n",
      "  5  6  7  8\n",
      " 13  9 11 12\n",
      " 10 14 15  0\n",
      "\n",
      "[15, 14, 10, 13, 9, 10, 14, 15]\n"
     ]
    }
   ],
   "source": [
    "from queue import PriorityQueue\n",
    "\n",
    "N = 4\n",
    "\n",
    "def moves(position):\n",
    "    blank = position.index(0)\n",
    "    i, j = divmod(blank, N)\n",
    "    offsets = []\n",
    "    if i > 0: offsets.append(-N)     \n",
    "    if i < N - 1: offsets.append(N) \n",
    "    if j > 0: offsets.append(-1)     \n",
    "    if j < N - 1: offsets.append(1)  \n",
    "    for offset in offsets:\n",
    "        swap = blank + offset\n",
    "        yield tuple(position[swap] if x==blank else position[blank] if x==swap else position[x] for x in range(N*N))\n",
    "\n",
    "def parity(permutation):\n",
    "    seen, cycles = set(), 0\n",
    "    for i in permutation:\n",
    "        if i not in seen:\n",
    "            cycles += 1\n",
    "            while i not in seen:\n",
    "                seen.add(i)\n",
    "                i = permutation[i]\n",
    "    return (cycles + len(permutation)) % 2\n",
    "\n",
    "\n",
    "class Position:\n",
    "    def __init__(self, position, start_distance):\n",
    "        self.position = position\n",
    "        self.start_distance = start_distance\n",
    "\n",
    "    def __lt__(self, other):\n",
    "        return self.start_distance < other.start_distance\n",
    "\n",
    "    def __str__(self):\n",
    "        return '\\n'.join((N*'{:3}').format(*[i%(N*N) for i in self.position[i:]]) \n",
    "for i in range(0, N*N, N))\n",
    "\n",
    "SOLVED = (1, 2, 3, 4, 5, 6, 7, 8, 9, 10, 11, 12, 13, 14, 15, 0)\n",
    "start = [1, 2, 3, 4, 5, 6, 7, 8, 13, 9, 11, 12, 10, 14, 15, 0]\n",
    "\n",
    "if parity(start) == 0:\n",
    "    print('[]')\n",
    "else:\n",
    "    start = tuple(start)\n",
    "\n",
    "    p = Position(start, 0)\n",
    "\n",
    "    print(p)\n",
    "    print()\n",
    "\n",
    "    candidates = PriorityQueue()\n",
    "    candidates.put(p)\n",
    "\n",
    "    visited = set([p])\n",
    "\n",
    "    came_from = {p.position: None}\n",
    "    \n",
    "    while p.position != SOLVED:\n",
    "        p = candidates.get()\n",
    "        for k in moves(p.position):\n",
    "            if k not in visited:\n",
    "                candidates.put(Position(k, p.start_distance + 1))\n",
    "                came_from[k] = p\n",
    "                visited.add(k)\n",
    "\n",
    "    path = []\n",
    "    prev = p\n",
    "    while p.position != start:\n",
    "        p = came_from[p.position]\n",
    "        number = p.position[prev.position.index(0)]\n",
    "        path.append(number)\n",
    "        prev = p\n",
    "    path.reverse()\n",
    "\n",
    "    print(path)"
   ]
  },
  {
   "cell_type": "markdown",
   "id": "arbitrary-amazon",
   "metadata": {},
   "source": [
    "### Вывод"
   ]
  },
  {
   "cell_type": "markdown",
   "id": "71bc58bf",
   "metadata": {},
   "source": [
    "##### В результате оценки времени работы алгоритмов поиска подстроки в строке, для текста состоящего из 712 символов, были получены следующие результаты:\n",
    "     1) Алгоритм Кнута-Морриса-Пратта - 1289 ms\n",
    "     2) Упрощенный алгоритм Бойера-Мура - 1543 ms\n",
    "     3) Стандартная функция поиска - 314 ms\n",
    "     Стандартная функция поиска оказалась наиболее быстрой по времени; \n",
    "     Наиболее быстрая по времни, за исключением стандартной функции, - алгоритм Кнута-Морриса-Пратта.\n",
    "     Наиболее длительная - упрощенный алгоритм Бойера-Мура."
   ]
  }
 ],
 "metadata": {
  "kernelspec": {
   "display_name": "Python 3 (ipykernel)",
   "language": "python",
   "name": "python3"
  },
  "language_info": {
   "codemirror_mode": {
    "name": "ipython",
    "version": 3
   },
   "file_extension": ".py",
   "mimetype": "text/x-python",
   "name": "python",
   "nbconvert_exporter": "python",
   "pygments_lexer": "ipython3",
   "version": "3.10.2"
  }
 },
 "nbformat": 4,
 "nbformat_minor": 5
}
