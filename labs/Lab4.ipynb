{
 "cells": [
  {
   "cell_type": "markdown",
   "id": "fifteen-sailing",
   "metadata": {},
   "source": [
    "# Лабораторная работа №4\n",
    "## Выполнила студентка группы БФИ2001 Тимофеева Дарья"
   ]
  },
  {
   "cell_type": "markdown",
   "id": "arctic-stocks",
   "metadata": {},
   "source": [
    "Реализовать следующие структуры данных:\n",
    "  \n",
    "● <b> Стек (stack): </b>  \n",
    "Операции для стека: \n",
    "<i> инициализация, проверка на пустоту, добавление нового элемента в начало, извлечение элемента из начала;  </i>  \n",
    "  \n",
    "● <b> Дек (двусторонняя очередь, deque):  </b>  \n",
    "Операции для дека: \n",
    "<i> инициализация, проверка на пустоту, добавление нового элемента в начало, добавление нового элемента в конец, извлечение элемента из начала, извлечение элемента из конца. </i>  \n",
    "  \n",
    "<i> Разработать программу обработки данных, содержащихся в заранее подготовленном txt-файле, в соответствии с заданиями, применив указанную в задании структуру данных. Результат работы программы вывести на экран и сохранить в отдельном txt-файле. </i>"
   ]
  },
  {
   "cell_type": "markdown",
   "id": "e6de3ef6",
   "metadata": {},
   "source": [
    "### Реализация стека и дека"
   ]
  },
  {
   "cell_type": "code",
   "execution_count": 1,
   "id": "68ccc87e",
   "metadata": {},
   "outputs": [],
   "source": [
    "# Реализация стека\n",
    "\n",
    "class Stack:\n",
    "#инициализация стека\n",
    "    def __init__(self, data = []):\n",
    "        self.stack = data\n",
    "        \n",
    "#проверка на пустоту   \n",
    "    def empty(self):\n",
    "        return self.stack == []\n",
    "    \n",
    "#добавление нового элемента       \n",
    "    def push(self, item):\n",
    "        self.stack.append(item)\n",
    "        \n",
    "#удаление элемента        \n",
    "    def pop(self):\n",
    "        if self.empty():\n",
    "            return None\n",
    "        return self.stack.pop()\n",
    "    \n",
    "    def size(self):\n",
    "        return len(self.stack)\n",
    "    \n",
    "# Реализация дека\n",
    "\n",
    "class Deque:\n",
    "#инициализация дека\n",
    "    def __init__(self, data = []):\n",
    "        self.deque = data\n",
    "        \n",
    "#проверка на пустоту          \n",
    "    def isEmpty(self):\n",
    "        return self.deque == []\n",
    "    \n",
    "#добавление нового элемента в начало        \n",
    "    def addFront(self, item):\n",
    "        self.deque.insert(0, item)\n",
    "        \n",
    "#добавление нового элемента в конец        \n",
    "    def addRear(self, item):\n",
    "        self.deque.append(item)\n",
    "        \n",
    "#удаление элемента из конца                \n",
    "    def removeRear(self):\n",
    "        if self.isEmpty():\n",
    "            return None\n",
    "        return self.deque.pop()\n",
    "    \n",
    "#удаление элемента из начала                \n",
    "    def removeFront(self):\n",
    "        if self.isEmpty():\n",
    "            return None\n",
    "        return self.deque.pop(0)"
   ]
  },
  {
   "cell_type": "markdown",
   "id": "5d7edb08",
   "metadata": {
    "scrolled": true
   },
   "source": [
    "### Задание №1\n",
    "Отсортировать строки файла, содержащие названия книг, в алфавитном порядке с использованием двух деков."
   ]
  },
  {
   "cell_type": "code",
   "execution_count": 2,
   "id": "17702ade",
   "metadata": {},
   "outputs": [
    {
     "name": "stdout",
     "output_type": "stream",
     "text": [
      "Великий Гэтсби\n",
      "\n",
      "Время жить, и время умирвть\n",
      "\n",
      "Граф Монте-Кристо\n",
      "\n",
      "Дети капитана Гранта\n",
      "\n",
      "Затерянный мир\n",
      "\n",
      "Искра жизни\n",
      "\n",
      "Ночь в Лиссабоне\n",
      "\n",
      "Остров сокровищ\n",
      "Портрет Дориана Грея\n",
      "\n",
      "Путешествие к центру Земли\n",
      "\n",
      "Робинзон Крузо\n",
      "\n",
      "Три мушкетера\n",
      "\n"
     ]
    }
   ],
   "source": [
    "def task1(data):\n",
    "    deq1 = Deque([])\n",
    "    deq2 = Deque([])\n",
    "    deq1.addFront(data[0])\n",
    "    for i in range(1, len(data)):\n",
    "        temp1 = deq1.removeFront()\n",
    "        if data[i] <= temp1:\n",
    "            deq1.addFront(temp1)\n",
    "            deq1.addFront(data[i])\n",
    "            continue\n",
    "        deq1.addFront(temp1)\n",
    "        temp2 = deq1.removeRear()\n",
    "        if data[i] >= temp2:\n",
    "            deq1.addRear(temp2)\n",
    "            deq1.addRear(data[i])\n",
    "            continue\n",
    "        deq1.addRear(temp2)\n",
    "        temp = deq1.removeFront()\n",
    "        while data[i] >= temp:\n",
    "            deq2.addRear(temp)\n",
    "            temp = deq1.removeFront()\n",
    "        deq1.addFront(temp)\n",
    "        deq1.addFront(data[i])\n",
    "        while deq2.isEmpty() is False:\n",
    "            deq1.addFront(deq2.removeRear())\n",
    "    return deq1.deque\n",
    "\n",
    "file = open(\"txt_files_for_lab4/1.txt\", \"r\", encoding = \"utf-8\")\n",
    "temp = []\n",
    "for i in file:\n",
    "    temp.append(i)\n",
    "result = task1(temp)\n",
    "for i in result:\n",
    "    print(i)\n",
    "file.close()\n",
    "\n",
    "file_result = open('txt_files_for_lab4/1_result.txt', 'w', encoding='utf-8')\n",
    "file_result.writelines((result))\n",
    "file_result.close()"
   ]
  },
  {
   "cell_type": "markdown",
   "id": "49fbd2a0",
   "metadata": {},
   "source": [
    "### Задание №2\n",
    "Дек содержит последовательность символов для шифровки сообщений. Дан текстовый файл, содержащий зашифрованное сообщение. Пользуясь деком, расшифровать текст. \n",
    "Известно, что при шифровке каждый символ сообщения заменялся следующим за ним в деке по часовой стрелке через один."
   ]
  },
  {
   "cell_type": "code",
   "execution_count": 3,
   "id": "81cab7a8",
   "metadata": {},
   "outputs": [
    {
     "name": "stdout",
     "output_type": "stream",
     "text": [
      "cnyxraj\n"
     ]
    }
   ],
   "source": [
    "deq = Deque(['a', 'e', 'c', 'q', 'w', 'i', 'p', 'y', 'x', 'm', 'n',' z', 'j', 'r'])\n",
    "\n",
    "def task2(data):\n",
    "    result = \"\"\n",
    "    for el in data:\n",
    "        temp_stack = Stack([])\n",
    "        temp = deq.removeFront()\n",
    "        i = 1\n",
    "        while el != temp:\n",
    "            temp_stack.push(temp)\n",
    "            temp = deq.removeFront()       \n",
    "        if temp_stack.empty():\n",
    "            deq.addFront(temp)\n",
    "            temp_stack.push(deq.removeRear())\n",
    "            temp = deq.removeRear()\n",
    "            result += temp\n",
    "            deq.addRear(temp)\n",
    "            deq.addRear(temp_stack.pop())\n",
    "        elif len(temp_stack.stack) == 1:\n",
    "            deq.addFront(temp)\n",
    "            deq.addFront(temp_stack.pop())\n",
    "            temp = deq.removeRear()\n",
    "            result += temp\n",
    "            deq.addRear(temp)\n",
    "        else:\n",
    "            deq.addFront(temp)\n",
    "            temp2 = temp_stack.pop()\n",
    "            temp = temp_stack.pop()\n",
    "            result += temp\n",
    "            deq.addFront(temp2)\n",
    "            deq.addFront(temp)\n",
    "            while not temp_stack.empty():\n",
    "                deq.addFront(temp_stack.pop())\n",
    "    return result\n",
    "\n",
    "result = []\n",
    "\n",
    "file = open(\"txt_files_for_lab4/2.txt\", \"r\", encoding = \"utf-8\")\n",
    "for line in file:\n",
    "    result.append(task2(line))\n",
    "print(\" \".join(result))            \n",
    "file.close()\n",
    "\n",
    "file_result = open('txt_files_for_lab4/2_result.txt', 'w', encoding='utf-8')\n",
    "file_result.write(\" \".join(result))\n",
    "file_result.close()"
   ]
  },
  {
   "cell_type": "markdown",
   "id": "c0894f47",
   "metadata": {},
   "source": [
    "### Задание №3\n",
    "Даны три стержня и n дисков различного размера. Диски можно надевать на стержни, образуя из них башни. Перенести n дисков со стержня А на стержень С, сохранив их первоначальный порядок. При переносе дисков необходимо соблюдать следующие правила:\n",
    "- на каждом шаге со стержня на стержень переносить только один диск;\n",
    "- диск нельзя помещать на диск меньшего размера;\n",
    "- для промежуточного хранения можно использовать стержень В.\n",
    "Реализовать алгоритм, используя три стека вместо стержней А, В, С. Информация о дисках хранится в исходном файле."
   ]
  },
  {
   "cell_type": "code",
   "execution_count": 4,
   "id": "9e91a9d4",
   "metadata": {},
   "outputs": [
    {
     "name": "stdout",
     "output_type": "stream",
     "text": [
      "34 25 16 7 1 \n"
     ]
    }
   ],
   "source": [
    "file = open('txt_files_for_lab4/3.txt', 'r', encoding='utf-8')\n",
    "\n",
    "A = Stack()\n",
    "B = Stack()\n",
    "C = Stack()\n",
    "num: int = 0\n",
    "for line in file:\n",
    "    A.push(line)\n",
    "    num += 1\n",
    "        \n",
    "def task3(num, A, B, C):\n",
    "    if num == 1:\n",
    "        B.push(A.pop())\n",
    "        return \n",
    "    task3(num-1, A, C, B)\n",
    "    B.push(A.pop())\n",
    "    task3(num-1, C, B, A)\n",
    "         \n",
    "task3(num, A, C, B)\n",
    "\n",
    "res = \"\"\n",
    "while not C.empty():\n",
    "    res += C.pop()+ \" \"\n",
    "print(res)\n",
    "file.close()\n",
    "\n",
    "file_result = open('txt_files_for_lab4/3_result.txt', 'w', encoding='utf-8')\n",
    "file_result.write(str(res))\n",
    "file_result.close()"
   ]
  },
  {
   "cell_type": "markdown",
   "id": "e5b0be17",
   "metadata": {},
   "source": [
    "### Задание №4\n",
    "Дан текстовый файл с программой на алгоритмическом языке. За один просмотр файла проверить баланс круглых скобок в тексте, используя стек."
   ]
  },
  {
   "cell_type": "code",
   "execution_count": 5,
   "id": "5b1df60a",
   "metadata": {},
   "outputs": [
    {
     "name": "stdout",
     "output_type": "stream",
     "text": [
      "False\n"
     ]
    }
   ],
   "source": [
    "def task4(text):\n",
    "    deq = Stack([])\n",
    "    for i in text:\n",
    "        if i == '(':\n",
    "            deq.push(i)\n",
    "        elif i == ')':\n",
    "            if deq.empty():\n",
    "                return False\n",
    "            else:\n",
    "                deq.pop()\n",
    "    return deq.empty()\n",
    "\n",
    "file = open('txt_files_for_lab4/4.txt', 'r', encoding='utf-8')\n",
    "f = file.read()\n",
    "file.close()\n",
    "\n",
    "res = task4(f)\n",
    "print(res)\n",
    "\n",
    "file_result = open('txt_files_for_lab4/4_result.txt', 'w', encoding='utf-8')\n",
    "file_result.write(str(res))\n",
    "file_result.close()"
   ]
  },
  {
   "cell_type": "markdown",
   "id": "c44cdd6b",
   "metadata": {},
   "source": [
    "### Задание №5\n",
    "Дан текстовый файл с программой на алгоритмическом языке. За один просмотр файла проверить баланс квадратных скобок в тексте, используя дек."
   ]
  },
  {
   "cell_type": "code",
   "execution_count": 6,
   "id": "36b8f400",
   "metadata": {},
   "outputs": [
    {
     "name": "stdout",
     "output_type": "stream",
     "text": [
      "True\n"
     ]
    }
   ],
   "source": [
    "def task5(text):\n",
    "    deq = Deque([])\n",
    "    for i in text:\n",
    "        if i == '[':\n",
    "            deq.addRear(i)\n",
    "        elif i == ']':\n",
    "            if deq.isEmpty():\n",
    "                return False\n",
    "            else:\n",
    "                deq.removeRear()\n",
    "    return deq.isEmpty()\n",
    "\n",
    "file = open('txt_files_for_lab4/5.txt', 'r', encoding='utf-8')\n",
    "f = file.read()\n",
    "file.close()\n",
    "\n",
    "res = task5(f)\n",
    "print(res)\n",
    "\n",
    "file_result = open('txt_files_for_lab4/5_result.txt', 'w', encoding='utf-8')\n",
    "file_result.write(str(res))\n",
    "file_result.close()"
   ]
  },
  {
   "cell_type": "markdown",
   "id": "59d13dc7",
   "metadata": {},
   "source": [
    "### Задание №6\n",
    "Дан файл из символов. Используя стек, за один просмотр файла напечатать сначала все цифры, затем все буквы, и, наконец, все остальные символы, сохраняя исходный порядок в каждой группе символов."
   ]
  },
  {
   "cell_type": "code",
   "execution_count": 7,
   "id": "297e36c2",
   "metadata": {},
   "outputs": [
    {
     "name": "stdout",
     "output_type": "stream",
     "text": [
      "176234DFGATgfd% $  ** \n"
     ]
    }
   ],
   "source": [
    "def task6(txt):\n",
    "    stack1 = Stack([])\n",
    "    stack2 = Stack([])\n",
    "    stack3 = Stack([])\n",
    "\n",
    "    for i in txt:\n",
    "        if i.isnumeric():\n",
    "            stack1.push(i)\n",
    "        elif i.isalpha():\n",
    "            stack2.push(i)\n",
    "        else:\n",
    "            stack3.push(i)\n",
    "        \n",
    "    stack = Stack([])\n",
    "\n",
    "    while not stack3.empty():\n",
    "        stack.push(stack3.pop())\n",
    "\n",
    "    while not stack2.empty():\n",
    "        stack.push(stack2.pop())\n",
    "\n",
    "    while not stack1.empty():\n",
    "        stack.push(stack1.pop())\n",
    "\n",
    "    text = ''\n",
    "    for i in range(stack.size()):\n",
    "        text = text + stack.pop()\n",
    "    return text\n",
    "\n",
    "file = open('txt_files_for_lab4/6.txt', 'r', encoding='utf-8')\n",
    "f = file.read()\n",
    "file.close()\n",
    "\n",
    "res = task6(f)\n",
    "print(res)\n",
    "\n",
    "file_result = open('txt_files_for_lab4/6_result.txt', 'w', encoding='utf-8')\n",
    "file_result.write(str(res))\n",
    "file_result.close()"
   ]
  },
  {
   "cell_type": "markdown",
   "id": "973f68bd",
   "metadata": {},
   "source": [
    "### Задание №7\n",
    "Дан файл из целых чисел. Используя дек, за один просмотр файла напечатать сначала все отрицательные числа, затем все положительные числа, сохраняя исходный порядок в каждой группе."
   ]
  },
  {
   "cell_type": "code",
   "execution_count": 8,
   "id": "c56fad66",
   "metadata": {},
   "outputs": [
    {
     "name": "stdout",
     "output_type": "stream",
     "text": [
      "-6\n",
      "\n",
      "-4\n",
      "\n",
      "-6 \n",
      "\n",
      "-23\n",
      "8\n",
      "\n",
      "9 \n",
      "\n",
      "13\n",
      "\n",
      "7 \n",
      "\n",
      "3 \n",
      "\n"
     ]
    }
   ],
   "source": [
    "file = open('txt_files_for_lab4/7.txt', 'r', encoding='utf-8')\n",
    "file_result = open('txt_files_for_lab4/7_result.txt', 'w', encoding='utf-8')\n",
    "deq = Deque([])\n",
    "\n",
    "for i in file:\n",
    "    num = int(i)\n",
    "    if num < 0:\n",
    "        print(i)\n",
    "        file_result.write(i + '\\n')\n",
    "    else:\n",
    "        deq.addFront(i)\n",
    "            \n",
    "while not deq.isEmpty():\n",
    "    s = deq.removeRear()\n",
    "    print(s)\n",
    "    file_result.write(s + '\\n')\n",
    "    \n",
    "file.close()\n",
    "file_result.close()"
   ]
  },
  {
   "cell_type": "markdown",
   "id": "b9228191",
   "metadata": {},
   "source": [
    "### Задание №8\n",
    "Дан текстовый файл. Используя стек, сформировать новый текстовый файл, содержащий строки исходного файла, записанные в обратном порядке: первая строка становится последней, вторая – предпоследней и т.д."
   ]
  },
  {
   "cell_type": "code",
   "execution_count": 9,
   "id": "981fbdfe",
   "metadata": {},
   "outputs": [
    {
     "name": "stdout",
     "output_type": "stream",
     "text": [
      "Tell me now\n",
      "What's my thang tell me now\n",
      "What's my thang?\n",
      "Do your thang with me now\n",
      "Do your thang\n",
      "Do your thang with me now\n",
      "Do your thang\n",
      "\n"
     ]
    }
   ],
   "source": [
    "file = open('txt_files_for_lab4/8.txt', 'r', encoding='utf-8')\n",
    "\n",
    "def task8(txt):\n",
    "    stack = Stack([])\n",
    "    for i in txt:\n",
    "        stack.push(i)\n",
    "        \n",
    "    text =\"\"\n",
    "    while not stack.empty():\n",
    "        text = text + stack.pop()\n",
    "    return text\n",
    "\n",
    "res = task8(file)\n",
    "print(res)\n",
    "file.close()\n",
    "\n",
    "file_result = open('txt_files_for_lab4/8_result.txt', 'w', encoding='utf-8')\n",
    "file_result.write(str(res))\n",
    "file_result.close()"
   ]
  },
  {
   "cell_type": "markdown",
   "id": "rental-jerusalem",
   "metadata": {},
   "source": [
    "### Вывод\n"
   ]
  },
  {
   "cell_type": "markdown",
   "id": "0c2b8899",
   "metadata": {},
   "source": [
    "#### В результате выполнения лабораторной работы № 4 были реализованы такие структуры данных, как стек и дек\n",
    "#### Также была выполнена работа по обработке данных, содержащихся в текстовых файлах, с применением структур данных - стека и дека"
   ]
  }
 ],
 "metadata": {
  "kernelspec": {
   "display_name": "Python 3 (ipykernel)",
   "language": "python",
   "name": "python3"
  },
  "language_info": {
   "codemirror_mode": {
    "name": "ipython",
    "version": 3
   },
   "file_extension": ".py",
   "mimetype": "text/x-python",
   "name": "python",
   "nbconvert_exporter": "python",
   "pygments_lexer": "ipython3",
   "version": "3.10.2"
  }
 },
 "nbformat": 4,
 "nbformat_minor": 5
}
