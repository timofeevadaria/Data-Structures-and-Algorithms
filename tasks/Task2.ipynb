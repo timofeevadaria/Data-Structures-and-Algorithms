{
 "cells": [
  {
   "cell_type": "markdown",
   "id": "arctic-stocks",
   "metadata": {},
   "source": [
    "### Задание №1\n",
    "Массив A состоит из целых положительных чисел длин отрезков. Составьте из трех отрезков такой треугольник, чтобы его периметр был максимально возможным. Если невозможно составить треугольник с положительной площадью функция возвращает 0."
   ]
  },
  {
   "cell_type": "code",
   "execution_count": 1,
   "id": "caring-truck",
   "metadata": {
    "scrolled": false
   },
   "outputs": [
    {
     "name": "stdout",
     "output_type": "stream",
     "text": [
      "Max Perimeter - 20\n",
      "0\n"
     ]
    }
   ],
   "source": [
    "def maxPerimeter(arr):\n",
    "    maxP = 0\n",
    "    n = len(arr)\n",
    "    arr.sort(reverse = True)\n",
    "    for i in range(0, n - 2):\n",
    "        if arr[i] < (arr[i + 1] + arr[i + 2]):\n",
    "            maxP = max(maxP, arr[i] + \n",
    "                       arr[i + 1] + arr[i + 2])\n",
    "            break\n",
    "    if(maxP == 0):\n",
    "        return \"0\"\n",
    "    else:\n",
    "        return \"Max Perimeter - \"+ str(maxP)\n",
    "\n",
    "arr1 = [6, 1, 6, 5, 8, 4]\n",
    "a = maxPerimeter(arr1)\n",
    "print(a)\n",
    "\n",
    "arr2 = [2, 20, 7, 55, 1, 33, 12, 4]\n",
    "a = maxPerimeter(arr2)\n",
    "print(a)\n",
    "\n"
   ]
  },
  {
   "cell_type": "markdown",
   "id": "maritime-conversation",
   "metadata": {},
   "source": [
    "### Задание №2\n",
    "Дан массив неотрицательных целых чисел nums. Расположите их в таком порядке, чтобы вместе они образовали максимально возможное число. Замечание: Результат может быть очень большим числом, поэтому представьте его как string, а не integer."
   ]
  },
  {
   "cell_type": "code",
   "execution_count": 4,
   "id": "alert-charm",
   "metadata": {
    "scrolled": false
   },
   "outputs": [
    {
     "name": "stdout",
     "output_type": "stream",
     "text": [
      "73281110\n"
     ]
    }
   ],
   "source": [
    "nums = [28, 11, 10, 3, 7]\n",
    "max_len = len(str(max(nums)))\n",
    "nums = [str(i) for i in nums]\n",
    "def change_elem(s):\n",
    "    return s + s[-1] * (max_len - len(s))\n",
    "sort_list = sorted(nums, key=change_elem, reverse=True)\n",
    "print(''.join(sort_list))"
   ]
  },
  {
   "cell_type": "markdown",
   "id": "catholic-roots",
   "metadata": {},
   "source": [
    "### Задание №3\n",
    "Дана матрица mat размером m * n, значения целочисленные. Напишите функцию, сортирующую каждую диагональ матрицы по возрастанию и возвращающую получившуюся матрицу."
   ]
  },
  {
   "cell_type": "code",
   "execution_count": 2,
   "id": "cleared-anniversary",
   "metadata": {
    "scrolled": false
   },
   "outputs": [
    {
     "name": "stdout",
     "output_type": "stream",
     "text": [
      "[9, 5, 3, 7, 5, 9, 2]\n",
      "[4, 1, 1, 7, 6, 9, 1]\n",
      "[9, 7, 3, 2, 1, 2, 0]\n",
      "[0, 4, 2, 9, 2, 4, 1]\n",
      "[7, 2, 5, 5, 2, 9, 5]\n",
      "[1, 2, 0, 6, 1, 3, 4]\n",
      "[2, 1, 9, 6, 2, 4, 7]\n",
      " \n",
      "[1, 1, 1, 1, 0, 1, 2]\n",
      "[1, 2, 2, 3, 2, 5, 9]\n",
      "[2, 2, 3, 2, 4, 6, 9]\n",
      "[0, 4, 4, 3, 4, 5, 7]\n",
      "[2, 0, 5, 4, 7, 5, 7]\n",
      "[1, 7, 2, 6, 5, 9, 9]\n",
      "[2, 1, 9, 6, 9, 7, 9]\n"
     ]
    }
   ],
   "source": [
    "import random\n",
    "def sortMat(matrix):\n",
    "    def comp(matrix, i ,j):\n",
    "        if i==0 or j==0:\n",
    "            return\n",
    "        try:\n",
    "            if matrix[i][j]<matrix[i-1][j-1]:\n",
    "                matrix[i][j],matrix[i-1][j-1]=matrix[i-1][j-1],matrix[i][j]\n",
    "                return(comp(matrix,i+1,j+1))\n",
    "        except IndexError:\n",
    "            return\n",
    "    for i in range(len(matrix)-1,-1,-1):\n",
    "        for j in range(0, len(matrix[i]),1):\n",
    "            comp(matrix,i,j)\n",
    "    return matrix\n",
    "matrix = [ [ random.randint(0, 9) for j in range(7)] for i in range(7) ]\n",
    "\n",
    "for i in range(7):\n",
    "    print(matrix[i])\n",
    "    \n",
    "sort_matrix = sortMat(matrix)\n",
    "print(\" \")\n",
    "for i in range(7):\n",
    "    print(sort_matrix[i])"
   ]
  }
 ],
 "metadata": {
  "kernelspec": {
   "display_name": "Python 3 (ipykernel)",
   "language": "python",
   "name": "python3"
  },
  "language_info": {
   "codemirror_mode": {
    "name": "ipython",
    "version": 3
   },
   "file_extension": ".py",
   "mimetype": "text/x-python",
   "name": "python",
   "nbconvert_exporter": "python",
   "pygments_lexer": "ipython3",
   "version": "3.10.2"
  }
 },
 "nbformat": 4,
 "nbformat_minor": 5
}
